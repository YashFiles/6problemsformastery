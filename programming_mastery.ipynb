{
  "nbformat": 4,
  "nbformat_minor": 0,
  "metadata": {
    "colab": {
      "provenance": [],
      "authorship_tag": "ABX9TyOhPeusgscH7vAoZno49/44",
      "include_colab_link": true
    },
    "kernelspec": {
      "name": "python3",
      "display_name": "Python 3"
    },
    "language_info": {
      "name": "python"
    }
  },
  "cells": [
    {
      "cell_type": "markdown",
      "metadata": {
        "id": "view-in-github",
        "colab_type": "text"
      },
      "source": [
        "<a href=\"https://colab.research.google.com/github/YashFiles/6problemsformastery/blob/main/programming_mastery.ipynb\" target=\"_parent\"><img src=\"https://colab.research.google.com/assets/colab-badge.svg\" alt=\"Open In Colab\"/></a>"
      ]
    },
    {
      "cell_type": "code",
      "execution_count": null,
      "metadata": {
        "colab": {
          "base_uri": "https://localhost:8080/"
        },
        "id": "UehkN6Qw9Ate",
        "outputId": "8595ac0a-8256-4cfe-a577-41ca9ebb1401"
      },
      "outputs": [
        {
          "output_type": "stream",
          "name": "stdout",
          "text": [
            "hello world\n"
          ]
        }
      ],
      "source": [
        "print(\"hello world\")"
      ]
    },
    {
      "cell_type": "code",
      "source": [
        "#let us get a list of 20 elements (integers) and let's take two indices i and j where i<j . the sublist l[i] represents the ith element of the list\n",
        "#and we have to find the sum of sublists from l[i] to l[j] i.e. l[i] + l[i+1] + l[i+2] + .... l[j]"
      ],
      "metadata": {
        "id": "HJyS0xa297PL"
      },
      "execution_count": null,
      "outputs": []
    },
    {
      "cell_type": "code",
      "source": [
        "from genericpath import isfile\n",
        "l = [1,2,3,4,5,6,7,8,9,10,11,12,13,14,15,16,17,18,19,20]\n",
        "\n",
        "i = int(input())\n",
        "j = int(input())\n",
        "\n",
        "def check_input():\n",
        "  if (i<j):\n",
        "    break\n",
        "  else:\n",
        "\n",
        "\n",
        "\n",
        "\n",
        "\n",
        "\n",
        "\n",
        "  input_fun()\n",
        "\n"
      ],
      "metadata": {
        "colab": {
          "base_uri": "https://localhost:8080/"
        },
        "id": "vnp07mB4_yQB",
        "outputId": "797943ea-f301-430d-8f30-7ce3fcc5a3fa"
      },
      "execution_count": null,
      "outputs": [
        {
          "name": "stdout",
          "output_type": "stream",
          "text": [
            "4\n",
            "2\n"
          ]
        }
      ]
    },
    {
      "cell_type": "code",
      "source": [],
      "metadata": {
        "id": "wPwmuk8fCIbQ"
      },
      "execution_count": null,
      "outputs": []
    }
  ]
}