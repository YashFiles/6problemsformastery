{
  "nbformat": 4,
  "nbformat_minor": 0,
  "metadata": {
    "colab": {
      "provenance": [],
      "authorship_tag": "ABX9TyNpoiBU5wmWzvRLXgqz+EUq",
      "include_colab_link": true
    },
    "kernelspec": {
      "name": "python3",
      "display_name": "Python 3"
    },
    "language_info": {
      "name": "python"
    }
  },
  "cells": [
    {
      "cell_type": "markdown",
      "metadata": {
        "id": "view-in-github",
        "colab_type": "text"
      },
      "source": [
        "<a href=\"https://colab.research.google.com/github/YashFiles/6problemsformastery/blob/main/programming_mastery.ipynb\" target=\"_parent\"><img src=\"https://colab.research.google.com/assets/colab-badge.svg\" alt=\"Open In Colab\"/></a>"
      ]
    },
    {
      "cell_type": "code",
      "execution_count": null,
      "metadata": {
        "colab": {
          "base_uri": "https://localhost:8080/"
        },
        "id": "UehkN6Qw9Ate",
        "outputId": "8595ac0a-8256-4cfe-a577-41ca9ebb1401"
      },
      "outputs": [
        {
          "output_type": "stream",
          "name": "stdout",
          "text": [
            "hello world\n"
          ]
        }
      ],
      "source": [
        "print(\"hello world\")"
      ]
    },
    {
      "cell_type": "code",
      "source": [
        "#let us get a list of 20 elements (integers) and let's take two indices i and j where i<j . the sublist l[i] represents the ith element of the list\n",
        "#and we have to find the sum of sublists from l[i] to l[j] i.e. l[i] + l[i+1] + l[i+2] + .... l[j]"
      ],
      "metadata": {
        "id": "HJyS0xa297PL"
      },
      "execution_count": null,
      "outputs": []
    },
    {
      "cell_type": "code",
      "source": [
        "from genericpath import isfile\n",
        "l = [1,2,3,4,5,6,7,8,9,10,11,12,13,14,15,16,17,18,19,20]\n",
        "\n",
        "i = int(input())\n",
        "j = int(input())\n",
        "\n",
        "if(i<j <=20):\n",
        "  print(\"correct inputs\")\n",
        "  sum_sublist = 0\n",
        "\n",
        "  for i in range(i,j+1):\n",
        "    sum_sublist += l[i]\n",
        "\n",
        "  print(sum_sublist)\n",
        "else:\n",
        "  print(\"i must be less than j\")\n",
        "\n",
        "\n",
        "\n",
        "\n",
        "\n"
      ],
      "metadata": {
        "colab": {
          "base_uri": "https://localhost:8080/"
        },
        "id": "vnp07mB4_yQB",
        "outputId": "b7b51681-66f7-4e9f-a64e-07c75490d9d5"
      },
      "execution_count": null,
      "outputs": [
        {
          "output_type": "stream",
          "name": "stdout",
          "text": [
            "2\n",
            "0\n",
            "i must be less than j\n"
          ]
        }
      ]
    },
    {
      "cell_type": "code",
      "source": [
        "# A student of class 9A , Ramu has 10 blue pens\n",
        "\n",
        "class Student:\n",
        "    def __init__(self, name, grade, pens, pen_color):\n",
        "        self.name = name\n",
        "        self.grade = grade\n",
        "        self.pens = pens\n",
        "        self.pen_color = pen_color\n",
        "\n",
        "    def __str__(self):\n",
        "        return f\"{self.name} from {self.grade} has {self.pens} {self.pen_color} pens.\"\n",
        "\n",
        "# Creating an instance for Ramu\n",
        "ramu = Student(name=\"Ramu\", grade=\"9A\", pens=10, pen_color=\"blue\")\n",
        "\n",
        "# Printing the details\n",
        "print(ramu)\n",
        "\n"
      ],
      "metadata": {
        "id": "wPwmuk8fCIbQ",
        "colab": {
          "base_uri": "https://localhost:8080/"
        },
        "outputId": "37c0be64-8b33-45ac-9107-87ac02a5d317"
      },
      "execution_count": null,
      "outputs": [
        {
          "output_type": "stream",
          "name": "stdout",
          "text": [
            "Ramu from 9A has 10 blue pens.\n"
          ]
        }
      ]
    },
    {
      "cell_type": "code",
      "source": [
        "#Create a Class for a Car. Define a class Car with attributes brand, model, and year.Create an object of Car and print its details.\n",
        "\n",
        "class Car:\n",
        "  def __init__(self,name,brand,model,year):\n",
        "    self.name = name\n",
        "    self.brand = brand\n",
        "    self.model = model\n",
        "    self.year = year\n",
        "\n",
        "  def __str__(self):\n",
        "     return f\"car details: name - {self.name}, brand - {self.brand}, model - {self.model}, year - {self.year}\"\n",
        "\n",
        "\n",
        "#instance\n",
        "\n",
        "virtus = Car(name=\"virtus\",brand=\"vw\",model=\"top model\",year=\"2025\")\n",
        "print(virtus)"
      ],
      "metadata": {
        "colab": {
          "base_uri": "https://localhost:8080/"
        },
        "id": "6YFteKzsxoDX",
        "outputId": "920e86e0-c9d7-4c94-d9d4-bcfff8859d37"
      },
      "execution_count": null,
      "outputs": [
        {
          "output_type": "stream",
          "name": "stdout",
          "text": [
            "car details: name - virtus, brand - vw, model - top model, year - 2025\n"
          ]
        }
      ]
    },
    {
      "cell_type": "code",
      "source": [
        "#Student Marks. Define a class Student with attributes name, grade, and marks. Create a method get_percentage() to calculate the percentage (assuming total marks is 500).\n",
        "#Create an object and call this method.\n",
        "\n",
        "class Student:\n",
        "  def __init__(self,name,grade,marks):\n",
        "    self.name = name\n",
        "    self.grade = grade\n",
        "    self.marks = marks\n",
        "\n",
        "  def __str__(self):\n",
        "    return f\"Student details: {self.name}({self.grade,self.marks}) \"\n",
        "\n",
        "  def calc_percentage(self):\n",
        "    print(f\"Percentage: {self.marks/500*100}%\")\n",
        "\n",
        "#instance\n",
        "\n",
        "yash = Student(name=\"Yash\",grade=\"8th\",marks=498)\n",
        "print(yash)\n",
        "yash.calc_percentage()\n"
      ],
      "metadata": {
        "colab": {
          "base_uri": "https://localhost:8080/"
        },
        "id": "5nC5bWPy0Yvd",
        "outputId": "c15010fa-e7d3-44ef-909d-4179d38b0409"
      },
      "execution_count": null,
      "outputs": [
        {
          "output_type": "stream",
          "name": "stdout",
          "text": [
            "Student details: Yash(('8th', 498)) \n",
            "Percentage: 99.6%\n"
          ]
        }
      ]
    },
    {
      "cell_type": "code",
      "source": [
        "#Bank Account Simulation. Create a class BankAccount with attributes account_holder, balance. Implement methods deposit(amount) and withdraw(amount).\n",
        "#Handle cases where withdrawal amount exceeds balance.\n",
        "\n",
        "class BankAccount:\n",
        "  def __init__(self,account_holder,balance):\n",
        "    self.account_holder = account_holder\n",
        "    self.balance = balance\n",
        "\n",
        "  def __str__(self):\n",
        "    return f\"account holder-{self.account_holder} , balance-{self.balance}\"\n",
        "\n",
        "  def deposit(self,amount):\n",
        "    self.balance = self.balance + amount\n",
        "    print(f\"current balance-{self.balance}\")\n",
        "\n",
        "\n",
        "  def withdraw(self,amount):\n",
        "    if(amount>self.balance):\n",
        "      print(\"not enough balance\")\n",
        "    else:\n",
        "      self.balance = self.balance - amount\n",
        "\n",
        "    print(f\"current balance-{self.balance}\")\n",
        "\n",
        "#instance\n",
        "\n",
        "yash = BankAccount(\"Yash\",2000)\n",
        "print(yash)\n",
        "\n",
        "yash.deposit(500)\n",
        "yash.withdraw(700)"
      ],
      "metadata": {
        "id": "btshJxsY4AdN",
        "colab": {
          "base_uri": "https://localhost:8080/"
        },
        "outputId": "12204506-1175-4d25-c207-ed759f9f24af"
      },
      "execution_count": null,
      "outputs": [
        {
          "output_type": "stream",
          "name": "stdout",
          "text": [
            "account holder-Yash , balance-2000\n",
            "current balance-2500\n",
            "current balance-1800\n"
          ]
        }
      ]
    },
    {
      "cell_type": "code",
      "source": [
        "#Create a Library class that contains a list of Book objects.#Implement methods to add_book(), remove_book(), and search_book(title).\n",
        "class Library:\n",
        "  def __init__(self,book_list):\n",
        "    book_list=[]\n",
        "    self.book_list=book_list\n",
        "  def add_book(self,book_name):\n",
        "    book_list=self.book_list\n",
        "    book_list.append(book_name)\n",
        "    print(\"Added Book :\",book_name)\n",
        "  def remove_book(self,book_name):\n",
        "    book_list=self.book_list\n",
        "    try:\n",
        "      book_list.remove(book_name)\n",
        "      print(\"Removed Book :\",book_name)\n",
        "    except:\n",
        "      print(\"Book not present\")\n",
        "\n",
        "  def search_book(self,book_name):\n",
        "    book_list=self.book_list\n",
        "    if book_name in book_list:\n",
        "      index=book_list.index(book_name)\n",
        "      print(book_name,\"is present in the Library at index \",index)\n",
        "    else:\n",
        "      print(book_name,\"is not present in the Library\")\n",
        "book_list=[]\n",
        "library = Library(book_list)\n",
        "library.add_book(\"ABC\")\n",
        "library.remove_book(\"DEF\")\n",
        "library.search_book(\"ABC\")\n",
        "\n",
        "\n",
        "\n"
      ],
      "metadata": {
        "colab": {
          "base_uri": "https://localhost:8080/"
        },
        "id": "9yZl5a1F486E",
        "outputId": "1f6bde1a-f0f3-4183-ae4d-5bcf82a97f4d"
      },
      "execution_count": null,
      "outputs": [
        {
          "output_type": "stream",
          "name": "stdout",
          "text": [
            "Added Book : ABC\n",
            "Book not present\n",
            "ABC is present in the Library at index  0\n"
          ]
        }
      ]
    },
    {
      "cell_type": "code",
      "source": [
        "# Extend the BankAccount class to ATM that allows balance_inquiry(), pin_change(), and fund_transfer().\n",
        "\n"
      ],
      "metadata": {
        "id": "uIGuyNeqT8-i"
      },
      "execution_count": null,
      "outputs": []
    },
    {
      "cell_type": "code",
      "source": [
        "#Create a class ShoppingCart that holds multiple Product objects. Implement methods to add_to_cart(), remove_from_cart(), and calculate_total()."
      ],
      "metadata": {
        "id": "gWh3sIJyUJE3"
      },
      "execution_count": null,
      "outputs": []
    },
    {
      "cell_type": "markdown",
      "source": [
        "**Binary Search**"
      ],
      "metadata": {
        "id": "AncVuowwUkC6"
      }
    },
    {
      "cell_type": "code",
      "source": [
        "arr = [1,3,5,7,11,13,16]\n",
        "\n",
        "def binary_search(arr, target):\n",
        "  left , right = 0 , len(arr) - 1\n",
        "\n",
        "  while left <= right:\n",
        "    mid = left + right // 2\n",
        "\n",
        "    if arr[mid] == target:\n",
        "      return mid\n",
        "    elif arr[mid] < target:\n",
        "      left = mid + 1\n",
        "    else:\n",
        "      right = mid - 1\n",
        "\n",
        "  return -1\n",
        "\n",
        "target = 7\n",
        "index = binary_search(arr, target)\n",
        "print(f\"index of target 7 is equal to {index}\")"
      ],
      "metadata": {
        "id": "Xc4sEDe7UlX8",
        "colab": {
          "base_uri": "https://localhost:8080/"
        },
        "outputId": "1119a793-0e95-4997-e42a-75d49a774040"
      },
      "execution_count": 4,
      "outputs": [
        {
          "output_type": "stream",
          "name": "stdout",
          "text": [
            "index of target 7 is equal to 3\n"
          ]
        }
      ]
    },
    {
      "cell_type": "markdown",
      "source": [
        "Stack"
      ],
      "metadata": {
        "id": "emKgJMUqMESa"
      }
    },
    {
      "cell_type": "code",
      "source": [
        "class Stack:\n",
        "  def __init__(self):\n",
        "    self.stack = []\n",
        "\n",
        "  def push(self,item):\n",
        "    self.stack.append(item)\n",
        "    print(f\"{item} pushed in the stack\")\n",
        "\n",
        "  def pop(self):\n",
        "    if self.is_empty():\n",
        "      print(\"Stack is empty\")\n",
        "      return None\n",
        "\n",
        "    return self.stack.pop()\n",
        "\n",
        "  def peek(self):\n",
        "    if self.is_empty():\n",
        "      return None\n",
        "    return self.stack[-1]\n",
        "\n",
        "  def is_empty(self):\n",
        "    return len(self.stack) == 0\n",
        "\n",
        "\n",
        "stack = Stack()\n",
        "stack.push(10)\n",
        "stack.push(20)\n",
        "stack.pop()\n"
      ],
      "metadata": {
        "colab": {
          "base_uri": "https://localhost:8080/"
        },
        "id": "aXYG4LPAMGU1",
        "outputId": "8a5034e0-2660-4791-b635-390d59190d6d"
      },
      "execution_count": 6,
      "outputs": [
        {
          "output_type": "stream",
          "name": "stdout",
          "text": [
            "10 pushed in the stack\n",
            "20 pushed in the stack\n"
          ]
        },
        {
          "output_type": "execute_result",
          "data": {
            "text/plain": [
              "20"
            ]
          },
          "metadata": {},
          "execution_count": 6
        }
      ]
    },
    {
      "cell_type": "markdown",
      "source": [
        "Tree"
      ],
      "metadata": {
        "id": "oJD4KZCbOqm9"
      }
    },
    {
      "cell_type": "code",
      "source": [
        "class Node:\n",
        "  def __init__(self,value):\n",
        "    self.value = value\n",
        "    self.left = None\n",
        "    self.right = None\n",
        "\n",
        "#instance\n",
        "\n",
        "root = Node(1)\n",
        "root.left = Node(2)\n",
        "root.right = Node(3)\n",
        "root.left.left = Node(4)\n",
        "root.left.right = Node(5)\n",
        "\n",
        "#inorder traversal\n",
        "\n",
        "def inorder_traversal(root):\n",
        "  if root:\n",
        "    inorder_traversal(root.left)\n",
        "    print(root.value, end = \" \")\n",
        "    inorder_traversal(root.right)\n",
        "\n",
        "# example usage\n",
        "print(\"Inorder traversal:\",end=\" \")\n",
        "inorder_traversal(root)\n",
        "print()\n"
      ],
      "metadata": {
        "colab": {
          "base_uri": "https://localhost:8080/"
        },
        "id": "aLfQNKflOtkW",
        "outputId": "76953fda-6125-40bf-e5e3-9551fe758cd4"
      },
      "execution_count": 8,
      "outputs": [
        {
          "output_type": "stream",
          "name": "stdout",
          "text": [
            "Inorder traversal: 4 2 5 1 3 \n"
          ]
        }
      ]
    }
  ]
}